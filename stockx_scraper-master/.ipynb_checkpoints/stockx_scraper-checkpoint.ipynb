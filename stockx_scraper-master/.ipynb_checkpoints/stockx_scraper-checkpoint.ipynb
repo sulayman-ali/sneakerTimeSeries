{
 "cells": [
  {
   "cell_type": "code",
   "execution_count": 129,
   "metadata": {},
   "outputs": [],
   "source": [
    "#Import packages\n",
    "from selenium import webdriver\n",
    "from selenium.webdriver.common.by import By\n",
    "from selenium.webdriver.support.ui import WebDriverWait\n",
    "from selenium.webdriver.support import expected_conditions as EC\n",
    "import pandas as pd\n",
    "from bs4 import BeautifulSoup\n",
    "from time import sleep\n",
    "from random import randint\n",
    "import os\n",
    "from selenium.common.exceptions import TimeoutException"
   ]
  },
  {
   "cell_type": "code",
   "execution_count": 130,
   "metadata": {},
   "outputs": [],
   "source": [
    "#Reference the current working directory\n",
    "cwd = os.getcwd()"
   ]
  },
  {
   "cell_type": "markdown",
   "metadata": {},
   "source": [
    "## Create functions"
   ]
  },
  {
   "cell_type": "code",
   "execution_count": 131,
   "metadata": {},
   "outputs": [],
   "source": [
    "def page_scroller(browser_driver, num_scrolls, wait_time):\n",
    "    for i in range(num_scrolls):\n",
    "        browser_driver.execute_script(\"window.scrollBy(0, 2000);\")\n",
    "        sleep(wait_time)"
   ]
  },
  {
   "cell_type": "code",
   "execution_count": 132,
   "metadata": {},
   "outputs": [],
   "source": [
    "def get_product_details(browser_driver, product_url_list):\n",
    "    #Create a list for dictionaries\n",
    "    prods = []\n",
    "    sales = []\n",
    "    error_prods = []\n",
    "    \n",
    "    print(str(len(product_url_list))+' products')\n",
    "    for url in product_url_list:\n",
    "        #Random sleep time\n",
    "        sleep(randint(3,6))\n",
    "        \n",
    "        #Create an empty dictionary of results\n",
    "        prod_details = {}\n",
    "        \n",
    "        \n",
    "        #Add the url to the dictionary\n",
    "        prod_details['url'] = url\n",
    "        \n",
    "        #Go to the item page\n",
    "        print(url)\n",
    "        \n",
    "        try:\n",
    "            driver.get(url = url)\n",
    "        except TimeoutException:\n",
    "            prod_details['status'] = 'Could not retrieve product information'\n",
    "            error_prods.append(url)\n",
    "        else:\n",
    "            sleep(3)\n",
    "            #Get the html from the link\n",
    "            soup = BeautifulSoup(driver.page_source, 'html.parser')\n",
    "\n",
    "\n",
    "            #Get product details and add to dictionary\n",
    "            #Get the name\n",
    "            product_name = soup.find('h1', class_ = 'name').text\n",
    "            prod_details['name'] = product_name\n",
    "            #print(product_name)\n",
    "\n",
    "            #Get the other details\n",
    "            #Some products have a product details column, others have a product details row\n",
    "            if soup.find('div', class_ = 'product-details detail-column') != None:\n",
    "                prod_info_section = soup.find('div', class_ = 'product-details detail-column').find_all('div', class_ = 'detail')\n",
    "            elif soup.find('div', class_ = 'product-details detail-row') != None:    \n",
    "                prod_info_section = soup.find('div', class_ = 'product-details detail-row').find_all('div', class_ = 'detail')\n",
    "            else:\n",
    "                prod_details['status'] = 'Could not retrieve product information'\n",
    "\n",
    "            #Loop thorugh all of the product details in that section of the page\n",
    "            for info_item in prod_info_section:\n",
    "                info_label = info_item.find('span', class_ = 'title').text\n",
    "                info_value = info_item.find('span', class_ = False).text\n",
    "\n",
    "                #Add to dictionary\n",
    "                prod_details[info_label] = info_value\n",
    "\n",
    "            prods.append(prod_details)\n",
    "\n",
    "\n",
    "\n",
    "\n",
    "\n",
    "            ######## GET HISTORIC SALES #######\n",
    "            #Find the view all sales button using the link text\n",
    "            driver.find_element_by_link_text(\"View All Sales\").click()\n",
    "            soup = BeautifulSoup(driver.page_source, 'html.parser')\n",
    "\n",
    "            historic_sales_head = soup.find('div', class_ = \"latest-sales-container\").thead\n",
    "            historic_sales_body = soup.find('div', class_ = \"latest-sales-container\").tbody\n",
    "\n",
    "            #Get the headings for the sales section\n",
    "            if historic_sales_body is not None:\n",
    "                all_header = historic_sales_head.find_all('th')\n",
    "                all_sales = historic_sales_body.find_all('tr')\n",
    "\n",
    "                #Make sure atleast one sale has occured\n",
    "\n",
    "                #Do this for every sale in the sales\n",
    "                for sale in all_sales:\n",
    "                    #Get a sales record\n",
    "                    prod_sales = {}\n",
    "                    prod_sales['url'] = item_link\n",
    "                    all_variables = sale.find_all('td')\n",
    "\n",
    "                    for header, value in zip(all_header, all_variables):\n",
    "                        prod_sales[header.text] = value.text\n",
    "                    #Append to list    \n",
    "                    sales.append(prod_sales)    \n",
    "\n",
    "\n",
    "    \n",
    "    #Return the list of results\n",
    "    return prods, sales, error_prods    "
   ]
  },
  {
   "cell_type": "markdown",
   "metadata": {},
   "source": [
    "## Login\n",
    "Logging in is required to get unrestricted access to historic sales"
   ]
  },
  {
   "cell_type": "code",
   "execution_count": 133,
   "metadata": {},
   "outputs": [],
   "source": [
    "#Instantiate a firefix session - Requires geckodriver in the current working directory\n",
    "driver = webdriver.Safari()\n",
    "sleep(2)"
   ]
  },
  {
   "cell_type": "code",
   "execution_count": 134,
   "metadata": {},
   "outputs": [],
   "source": [
    "#Load credentials from .py file\n",
    "# from credentials import username, password"
   ]
  },
  {
   "cell_type": "code",
   "execution_count": 135,
   "metadata": {},
   "outputs": [],
   "source": [
    "pw = open('passwords.txt').read().splitlines()"
   ]
  },
  {
   "cell_type": "code",
   "execution_count": 136,
   "metadata": {},
   "outputs": [],
   "source": [
    "username = pw[0]\n",
    "password = pw[1]"
   ]
  },
  {
   "cell_type": "code",
   "execution_count": 137,
   "metadata": {},
   "outputs": [],
   "source": [
    "#Navigate to login page\n",
    "driver.get(url = \"https://stockx.com/login\")"
   ]
  },
  {
   "cell_type": "code",
   "execution_count": 138,
   "metadata": {},
   "outputs": [],
   "source": [
    "from selenium.webdriver.common.keys import Keys\n",
    "email = WebDriverWait(driver, 5).until(EC.element_to_be_clickable((By.ID, \"email-login\")))\n",
    "email.send_keys(username)\n",
    "key = WebDriverWait(driver, 5).until(EC.element_to_be_clickable((By.ID, \"password-login\")))\n",
    "key.send_keys(password)\n",
    "key.send_keys(Keys.RETURN)"
   ]
  },
  {
   "cell_type": "markdown",
   "metadata": {},
   "source": [
    "## Get products from a search\n",
    "This section can be bypassed if you have list of product urls you want to retrieve information from\n"
   ]
  },
  {
   "cell_type": "code",
   "execution_count": 139,
   "metadata": {},
   "outputs": [],
   "source": [
    "#Replace search_term with whatever you're looking for\n",
    "#Spaces need to be replaced with %20\n",
    "search_term = \"yeezy 350\"\n",
    "search_term_converted = search_term.replace(' ', '%20')"
   ]
  },
  {
   "cell_type": "code",
   "execution_count": 140,
   "metadata": {},
   "outputs": [],
   "source": [
    "#Search\n",
    "driver.get(url = \"https://stockx.com/search?s=\"+search_term_converted)"
   ]
  },
  {
   "cell_type": "code",
   "execution_count": 141,
   "metadata": {},
   "outputs": [],
   "source": [
    "#Scroll down to load all items - Use a large number if you expect many results\n",
    "page_scroller(driver, 10, 3)"
   ]
  },
  {
   "cell_type": "code",
   "execution_count": 142,
   "metadata": {},
   "outputs": [],
   "source": [
    "#Get the html from the page\n",
    "soup = BeautifulSoup(driver.page_source, 'html.parser')"
   ]
  },
  {
   "cell_type": "code",
   "execution_count": 143,
   "metadata": {},
   "outputs": [],
   "source": [
    "#Get the results grid\n",
    "search_result_grid=  soup.find('div', class_ = \"browse-grid\")"
   ]
  },
  {
   "cell_type": "code",
   "execution_count": 144,
   "metadata": {},
   "outputs": [],
   "source": [
    "#Get the results tiles\n",
    "search_result_tiles = search_result_grid.find_all('div', class_ = \"tile css-1bonzt1 e1yt6rrx0\")"
   ]
  },
  {
   "cell_type": "code",
   "execution_count": 145,
   "metadata": {},
   "outputs": [
    {
     "name": "stdout",
     "output_type": "stream",
     "text": [
      "<div class=\"tile css-1bonzt1 e1yt6rrx0\" data-testid=\"product-tile\"><a href=\"/adidas-yeezy-boost-350-v2-asriel\" style=\"color: black;\"><div class=\"css-1c5ij41 e1sjmub50\" style=\"position: relative; padding-top: 58%;\"><img alt=\"adidas Yeezy Boost 350 V2 Carbon\" class=\"css-13o3lxt e1jyvhgp0\" src=\"https://stockx.imgix.net/adidas-Yeezy-Boost-350-V2-Carbon-Product.jpg?fit=fill&amp;bg=FFFFFF&amp;w=300&amp;h=214&amp;auto=format,compress&amp;trim=color&amp;q=90&amp;dpr=2&amp;updated_at=1603481985\"/></div><div class=\"css-1spf6z8 e1b7sao0\"><div class=\"css-1iephdx e1inh05x0\" size=\"16\" style=\"height: 38px; overflow: hidden; margin-bottom: 6px;\">adidas Yeezy Boost 350 V2 Carbon</div><div><div class=\"price-line-div\"><div class=\"css-td8rut ees1vvt0\">lowest ask</div><div class=\"css-lxiaex e1inh05x0\" size=\"22\">$251</div></div></div><div class=\"change featured css-td8rut ees1vvt0\"></div></div></a></div>\n",
      "<div class=\"tile css-1bonzt1 e1yt6rrx0\" data-testid=\"product-tile\"><a href=\"/adidas-yeezy-boost-350-v2-zyon\" style=\"color: black;\"><div class=\"css-1c5ij41 e1sjmub50\" style=\"position: relative; padding-top: 58%;\"><img alt=\"adidas Yeezy Boost 350 V2 Zyon\" class=\"css-13o3lxt e1jyvhgp0\" src=\"https://stockx.imgix.net/adidas-Yeezy-Boost-350-V2-Zyon-Product.jpg?fit=fill&amp;bg=FFFFFF&amp;w=300&amp;h=214&amp;auto=format,compress&amp;trim=color&amp;q=90&amp;dpr=2&amp;updated_at=1603481985\"/></div><div class=\"css-1spf6z8 e1b7sao0\"><div class=\"css-1iephdx e1inh05x0\" size=\"16\" style=\"height: 38px; overflow: hidden; margin-bottom: 6px;\">adidas Yeezy Boost 350 V2 Zyon</div><div><div class=\"price-line-div\"><div class=\"css-td8rut ees1vvt0\">lowest ask</div><div class=\"css-lxiaex e1inh05x0\" size=\"22\">$250</div></div></div><div class=\"change featured css-td8rut ees1vvt0\"></div></div></a></div>\n",
      "<div class=\"tile css-1bonzt1 e1yt6rrx0\" data-testid=\"product-tile\"><a href=\"/adidas-yeezy-boost-350-v2-cinder\" style=\"color: black;\"><div class=\"css-1c5ij41 e1sjmub50\" style=\"position: relative; padding-top: 58%;\"><img alt=\"adidas Yeezy Boost 350 V2 Cinder\" class=\"css-13o3lxt e1jyvhgp0\" src=\"https://stockx.imgix.net/adidas-Yeezy-Boost-350-V2-Cinder-Product.jpg?fit=fill&amp;bg=FFFFFF&amp;w=300&amp;h=214&amp;auto=format,compress&amp;trim=color&amp;q=90&amp;dpr=2&amp;updated_at=1603481985\"/></div><div class=\"css-1spf6z8 e1b7sao0\"><div class=\"css-1iephdx e1inh05x0\" size=\"16\" style=\"height: 38px; overflow: hidden; margin-bottom: 6px;\">adidas Yeezy Boost 350 V2 Cinder</div><div><div class=\"price-line-div\"><div class=\"css-td8rut ees1vvt0\">lowest ask</div><div class=\"css-lxiaex e1inh05x0\" size=\"22\">$314</div></div></div><div class=\"change featured css-td8rut ees1vvt0\"></div></div></a></div>\n",
      "<div class=\"tile css-1bonzt1 e1yt6rrx0\" data-testid=\"product-tile\"><a href=\"/adidas-yeezy-boost-350-v2-white-core-black-red\" style=\"color: black;\"><div class=\"css-1c5ij41 e1sjmub50\" style=\"position: relative; padding-top: 58%;\"><img alt=\"adidas Yeezy Boost 350 V2 Zebra\" class=\"css-13o3lxt e1jyvhgp0\" src=\"https://stockx.imgix.net/Adidas-Yeezy-Boost-350-V2-Zebra-Product-1.jpg?fit=fill&amp;bg=FFFFFF&amp;w=300&amp;h=214&amp;auto=format,compress&amp;trim=color&amp;q=90&amp;dpr=2&amp;updated_at=1603481985\"/></div><div class=\"css-1spf6z8 e1b7sao0\"><div class=\"css-1iephdx e1inh05x0\" size=\"16\" style=\"height: 38px; overflow: hidden; margin-bottom: 6px;\">adidas Yeezy Boost 350 V2 Zebra</div><div><div class=\"price-line-div\"><div class=\"css-td8rut ees1vvt0\">lowest ask</div><div class=\"css-lxiaex e1inh05x0\" size=\"22\">$345</div></div></div><div class=\"change featured css-td8rut ees1vvt0\"></div></div></a></div>\n",
      "<div class=\"tile css-1bonzt1 e1yt6rrx0\" data-testid=\"product-tile\"><a href=\"/adidas-yeezy-boost-350-v2-desert-sage\" style=\"color: black;\"><div class=\"css-1c5ij41 e1sjmub50\" style=\"position: relative; padding-top: 58%;\"><img alt=\"adidas Yeezy Boost 350 V2 Desert Sage\" class=\"css-13o3lxt e1jyvhgp0\" src=\"https://stockx.imgix.net/adidas-Yeezy-Boost-350-V2-Desert-Sage-Product.jpg?fit=fill&amp;bg=FFFFFF&amp;w=300&amp;h=214&amp;auto=format,compress&amp;trim=color&amp;q=90&amp;dpr=2&amp;updated_at=1603481985\"/></div><div class=\"css-1spf6z8 e1b7sao0\"><div class=\"css-1iephdx e1inh05x0\" size=\"16\" style=\"height: 38px; overflow: hidden; margin-bottom: 6px;\">adidas Yeezy Boost 350 V2 Desert Sage</div><div><div class=\"price-line-div\"><div class=\"css-td8rut ees1vvt0\">lowest ask</div><div class=\"css-lxiaex e1inh05x0\" size=\"22\">$270</div></div></div><div class=\"change featured css-td8rut ees1vvt0\"></div></div></a></div>\n",
      "<div class=\"tile css-1bonzt1 e1yt6rrx0\" data-testid=\"product-tile\"><a href=\"/adidas-yeezy-boost-350-v2-yecheil\" style=\"color: black;\"><div class=\"css-1c5ij41 e1sjmub50\" style=\"position: relative; padding-top: 58%;\"><img alt=\"adidas Yeezy Boost 350 V2 Yecheil (Non-Reflective)\" class=\"css-13o3lxt e1jyvhgp0\" src=\"https://stockx.imgix.net/adidas-Yeezy-Boost-350-V2-Yecheil-Product.jpg?fit=fill&amp;bg=FFFFFF&amp;w=300&amp;h=214&amp;auto=format,compress&amp;trim=color&amp;q=90&amp;dpr=2&amp;updated_at=1603481985\"/></div><div class=\"css-1spf6z8 e1b7sao0\"><div class=\"css-1iephdx e1inh05x0\" size=\"16\" style=\"height: 38px; overflow: hidden; margin-bottom: 6px;\">adidas Yeezy Boost 350 V2 Yecheil (Non-Reflective)</div><div><div class=\"price-line-div\"><div class=\"css-td8rut ees1vvt0\">lowest ask</div><div class=\"css-lxiaex e1inh05x0\" size=\"22\">$298</div></div></div><div class=\"change featured css-td8rut ees1vvt0\"></div></div></a></div>\n",
      "<div class=\"tile css-1bonzt1 e1yt6rrx0\" data-testid=\"product-tile\"><a href=\"/adidas-yeezy-boost-350-v2-cream-white\" style=\"color: black;\"><div class=\"css-1c5ij41 e1sjmub50\" style=\"position: relative; padding-top: 58%;\"><img alt=\"adidas Yeezy Boost 350 V2 Cream/Triple White\" class=\"css-13o3lxt e1jyvhgp0\" src=\"https://stockx.imgix.net/Adidas-Yeezy-Boost-350-V2-Cream-White-1-1.jpg?fit=fill&amp;bg=FFFFFF&amp;w=300&amp;h=214&amp;auto=format,compress&amp;trim=color&amp;q=90&amp;dpr=2&amp;updated_at=1603481985\"/></div><div class=\"css-1spf6z8 e1b7sao0\"><div class=\"css-1iephdx e1inh05x0\" size=\"16\" style=\"height: 38px; overflow: hidden; margin-bottom: 6px;\">adidas Yeezy Boost 350 V2 Cream/Triple White</div><div><div class=\"price-line-div\"><div class=\"css-td8rut ees1vvt0\">lowest ask</div><div class=\"css-lxiaex e1inh05x0\" size=\"22\">$330</div></div></div><div class=\"change featured css-td8rut ees1vvt0\"></div></div></a></div>\n",
      "<div class=\"tile css-1bonzt1 e1yt6rrx0\" data-testid=\"product-tile\"><a href=\"/adidas-yeezy-boost-350-v2-yeezreel\" style=\"color: black;\"><div class=\"css-1c5ij41 e1sjmub50\" style=\"position: relative; padding-top: 58%;\"><img alt=\"adidas Yeezy Boost 350 V2 Yeezreel (Non-Reflective)\" class=\"css-13o3lxt e1jyvhgp0\" src=\"https://stockx.imgix.net/adidas-Yeezy-Boost-350-V2-Yeezreel-Product.jpg?fit=fill&amp;bg=FFFFFF&amp;w=300&amp;h=214&amp;auto=format,compress&amp;trim=color&amp;q=90&amp;dpr=2&amp;updated_at=1603481985\"/></div><div class=\"css-1spf6z8 e1b7sao0\"><div class=\"css-1iephdx e1inh05x0\" size=\"16\" style=\"height: 38px; overflow: hidden; margin-bottom: 6px;\">adidas Yeezy Boost 350 V2 Yeezreel (Non-Reflective)</div><div><div class=\"price-line-div\"><div class=\"css-td8rut ees1vvt0\">lowest ask</div><div class=\"css-lxiaex e1inh05x0\" size=\"22\">$260</div></div></div><div class=\"change featured css-td8rut ees1vvt0\"></div></div></a></div>\n",
      "<div class=\"tile css-1bonzt1 e1yt6rrx0\" data-testid=\"product-tile\"><a href=\"/adidas-yeezy-boost-350-v2-tail-light\" style=\"color: black;\"><div class=\"css-1c5ij41 e1sjmub50\" style=\"position: relative; padding-top: 58%;\"><img alt=\"adidas Yeezy Boost 350 V2 Tail Light\" class=\"css-13o3lxt e1jyvhgp0\" src=\"https://stockx.imgix.net/adidas-Yeezy-Boost-350-V2-Tail-Light-Product.jpg?fit=fill&amp;bg=FFFFFF&amp;w=300&amp;h=214&amp;auto=format,compress&amp;trim=color&amp;q=90&amp;dpr=2&amp;updated_at=1603481985\"/></div><div class=\"css-1spf6z8 e1b7sao0\"><div class=\"css-1iephdx e1inh05x0\" size=\"16\" style=\"height: 38px; overflow: hidden; margin-bottom: 6px;\">adidas Yeezy Boost 350 V2 Tail Light</div><div><div class=\"price-line-div\"><div class=\"css-td8rut ees1vvt0\">lowest ask</div><div class=\"css-lxiaex e1inh05x0\" size=\"22\">$345</div></div></div><div class=\"change featured css-td8rut ees1vvt0\"></div></div></a></div>\n",
      "<div class=\"tile css-1bonzt1 e1yt6rrx0\" data-testid=\"product-tile\"><a href=\"/adidas-yeezy-boost-350-v2-earth\" style=\"color: black;\"><div class=\"css-1c5ij41 e1sjmub50\" style=\"position: relative; padding-top: 58%;\"><img alt=\"adidas Yeezy Boost 350 V2 Earth\" class=\"css-13o3lxt e1jyvhgp0\" src=\"https://stockx.imgix.net/adidas-Yeezy-Boost-350-V2-Earth-Product.jpg?fit=fill&amp;bg=FFFFFF&amp;w=300&amp;h=214&amp;auto=format,compress&amp;trim=color&amp;q=90&amp;dpr=2&amp;updated_at=1603481985\"/></div><div class=\"css-1spf6z8 e1b7sao0\"><div class=\"css-1iephdx e1inh05x0\" size=\"16\" style=\"height: 38px; overflow: hidden; margin-bottom: 6px;\">adidas Yeezy Boost 350 V2 Earth</div><div><div class=\"price-line-div\"><div class=\"css-td8rut ees1vvt0\">lowest ask</div><div class=\"css-lxiaex e1inh05x0\" size=\"22\">$290</div></div></div><div class=\"change featured css-td8rut ees1vvt0\"></div></div></a></div>\n",
      "<div class=\"tile css-1bonzt1 e1yt6rrx0\" data-testid=\"product-tile\"><a href=\"/adidas-yeezy-boost-350-v2-citrin\" style=\"color: black;\"><div class=\"css-1c5ij41 e1sjmub50\" style=\"position: relative; padding-top: 58%;\"><img alt=\"adidas Yeezy Boost 350 V2 Citrin (Non-Reflective)\" class=\"css-13o3lxt e1jyvhgp0\" src=\"https://stockx.imgix.net/adidas-Yeezy-Boost-350-V2-Citrin-Product.jpg?fit=fill&amp;bg=FFFFFF&amp;w=300&amp;h=214&amp;auto=format,compress&amp;trim=color&amp;q=90&amp;dpr=2&amp;updated_at=1603481985\"/></div><div class=\"css-1spf6z8 e1b7sao0\"><div class=\"css-1iephdx e1inh05x0\" size=\"16\" style=\"height: 38px; overflow: hidden; margin-bottom: 6px;\">adidas Yeezy Boost 350 V2 Citrin (Non-Reflective)</div><div><div class=\"price-line-div\"><div class=\"css-td8rut ees1vvt0\">lowest ask</div><div class=\"css-lxiaex e1inh05x0\" size=\"22\">$245</div></div></div><div class=\"change featured css-td8rut ees1vvt0\"></div></div></a></div>\n",
      "<div class=\"tile css-1bonzt1 e1yt6rrx0\" data-testid=\"product-tile\"><a href=\"/adidas-yeezy-boost-350-v2-cloud-white\" style=\"color: black;\"><div class=\"css-1c5ij41 e1sjmub50\" style=\"position: relative; padding-top: 58%;\"><img alt=\"adidas Yeezy Boost 350 V2 Cloud White (Non-Reflective)\" class=\"css-13o3lxt e1jyvhgp0\" src=\"https://stockx.imgix.net/adidas-Yeezy-Boost-350-V2-Cloud-White-Product.jpg?fit=fill&amp;bg=FFFFFF&amp;w=300&amp;h=214&amp;auto=format,compress&amp;trim=color&amp;q=90&amp;dpr=2&amp;updated_at=1603481985\"/></div><div class=\"css-1spf6z8 e1b7sao0\"><div class=\"css-1iephdx e1inh05x0\" size=\"16\" style=\"height: 38px; overflow: hidden; margin-bottom: 6px;\">adidas Yeezy Boost 350 V2 Cloud White (Non-Reflective)</div><div><div class=\"price-line-div\"><div class=\"css-td8rut ees1vvt0\">lowest ask</div><div class=\"css-lxiaex e1inh05x0\" size=\"22\">$345</div></div></div><div class=\"change featured css-td8rut ees1vvt0\"></div></div></a></div>\n",
      "<div class=\"tile css-1bonzt1 e1yt6rrx0\" data-testid=\"product-tile\"><a href=\"/adidas-yeezy-boost-350-v2-linen\" style=\"color: black;\"><div class=\"css-1c5ij41 e1sjmub50\" style=\"position: relative; padding-top: 58%;\"><img alt=\"adidas Yeezy Boost 350 V2 Linen\" class=\"css-13o3lxt e1jyvhgp0\" src=\"https://stockx.imgix.net/adidas-Yeezy-Boost-350-V2-Linen-Product.jpg?fit=fill&amp;bg=FFFFFF&amp;w=300&amp;h=214&amp;auto=format,compress&amp;trim=color&amp;q=90&amp;dpr=2&amp;updated_at=1603481985\"/></div><div class=\"css-1spf6z8 e1b7sao0\"><div class=\"css-1iephdx e1inh05x0\" size=\"16\" style=\"height: 38px; overflow: hidden; margin-bottom: 6px;\">adidas Yeezy Boost 350 V2 Linen</div><div><div class=\"price-line-div\"><div class=\"css-td8rut ees1vvt0\">lowest ask</div><div class=\"css-lxiaex e1inh05x0\" size=\"22\">$280</div></div></div><div class=\"change featured css-td8rut ees1vvt0\"></div></div></a></div>\n",
      "<div class=\"tile css-1bonzt1 e1yt6rrx0\" data-testid=\"product-tile\"><a href=\"/adidas-yeezy-boost-350-v2-static\" style=\"color: black;\"><div class=\"css-1c5ij41 e1sjmub50\" style=\"position: relative; padding-top: 58%;\"><img alt=\"adidas Yeezy Boost 350 V2 Static (Non-Reflective)\" class=\"css-13o3lxt e1jyvhgp0\" src=\"https://stockx.imgix.net/adidas-Yeezy-Boost-350-V2-Static-Product.jpg?fit=fill&amp;bg=FFFFFF&amp;w=300&amp;h=214&amp;auto=format,compress&amp;trim=color&amp;q=90&amp;dpr=2&amp;updated_at=1603481985\"/></div><div class=\"css-1spf6z8 e1b7sao0\"><div class=\"css-1iephdx e1inh05x0\" size=\"16\" style=\"height: 38px; overflow: hidden; margin-bottom: 6px;\">adidas Yeezy Boost 350 V2 Static (Non-Reflective)</div><div><div class=\"price-line-div\"><div class=\"css-td8rut ees1vvt0\">lowest ask</div><div class=\"css-lxiaex e1inh05x0\" size=\"22\">$365</div></div></div><div class=\"change featured css-td8rut ees1vvt0\"></div></div></a></div>\n",
      "<div class=\"tile css-1bonzt1 e1yt6rrx0\" data-testid=\"product-tile\"><a href=\"/adidas-yeezy-boost-350-v2-yeshaya\" style=\"color: black;\"><div class=\"css-1c5ij41 e1sjmub50\" style=\"position: relative; padding-top: 58%;\"><img alt=\"adidas Yeezy Boost 350 V2 Yeshaya (Non-Reflective)\" class=\"css-13o3lxt e1jyvhgp0\" src=\"https://stockx.imgix.net/adidas-Yeezy-Boost-350-V2-Yeshaya-Product.jpg?fit=fill&amp;bg=FFFFFF&amp;w=300&amp;h=214&amp;auto=format,compress&amp;trim=color&amp;q=90&amp;dpr=2&amp;updated_at=1603481985\"/></div><div class=\"css-1spf6z8 e1b7sao0\"><div class=\"css-1iephdx e1inh05x0\" size=\"16\" style=\"height: 38px; overflow: hidden; margin-bottom: 6px;\">adidas Yeezy Boost 350 V2 Yeshaya (Non-Reflective)</div><div><div class=\"price-line-div\"><div class=\"css-td8rut ees1vvt0\">lowest ask</div><div class=\"css-lxiaex e1inh05x0\" size=\"22\">$298</div></div></div><div class=\"change featured css-td8rut ees1vvt0\"></div></div></a></div>\n",
      "<div class=\"tile css-1bonzt1 e1yt6rrx0\" data-testid=\"product-tile\"><a href=\"/adidas-yeezy-boost-350-v2-sulfur\" style=\"color: black;\"><div class=\"css-1c5ij41 e1sjmub50\" style=\"position: relative; padding-top: 58%;\"><img alt=\"adidas Yeezy Boost 350 V2 Sulfur\" class=\"css-13o3lxt e1jyvhgp0\" src=\"https://stockx.imgix.net/adidas-Yeezy-Boost-350-V2-Sulfur.jpg?fit=fill&amp;bg=FFFFFF&amp;w=300&amp;h=214&amp;auto=format,compress&amp;trim=color&amp;q=90&amp;dpr=2&amp;updated_at=1603481985\"/></div><div class=\"css-1spf6z8 e1b7sao0\"><div class=\"css-1iephdx e1inh05x0\" size=\"16\" style=\"height: 38px; overflow: hidden; margin-bottom: 6px;\">adidas Yeezy Boost 350 V2 Sulfur</div><div><div class=\"price-line-div\"><div class=\"css-td8rut ees1vvt0\">lowest ask</div><div class=\"css-lxiaex e1inh05x0\" size=\"22\">$270</div></div></div><div class=\"change featured css-td8rut ees1vvt0\"></div></div></a></div>\n",
      "<div class=\"tile css-1bonzt1 e1yt6rrx0\" data-testid=\"product-tile\"><a href=\"/adidas-yeezy-boost-350-v2-semi-frozen-yellow\" style=\"color: black;\"><div class=\"css-1c5ij41 e1sjmub50\" style=\"position: relative; padding-top: 58%;\"><span class=\"css-13o3lxt e1jyvhgp0\" style=\"display: inline-block;\"></span></div><div class=\"css-1spf6z8 e1b7sao0\"><div class=\"css-1iephdx e1inh05x0\" size=\"16\" style=\"height: 38px; overflow: hidden; margin-bottom: 6px;\">adidas Yeezy Boost 350 V2 Semi Frozen Yellow</div><div><div class=\"price-line-div\"><div class=\"css-td8rut ees1vvt0\">lowest ask</div><div class=\"css-lxiaex e1inh05x0\" size=\"22\">$320</div></div></div><div class=\"change featured css-td8rut ees1vvt0\"></div></div></a></div>\n",
      "<div class=\"tile css-1bonzt1 e1yt6rrx0\" data-testid=\"product-tile\"><a href=\"/adidas-yeezy-boost-350-v2-clay\" style=\"color: black;\"><div class=\"css-1c5ij41 e1sjmub50\" style=\"position: relative; padding-top: 58%;\"><span class=\"css-13o3lxt e1jyvhgp0\" style=\"display: inline-block;\"></span></div><div class=\"css-1spf6z8 e1b7sao0\"><div class=\"css-1iephdx e1inh05x0\" size=\"16\" style=\"height: 38px; overflow: hidden; margin-bottom: 6px;\">adidas Yeezy Boost 350 V2 Clay</div><div><div class=\"price-line-div\"><div class=\"css-td8rut ees1vvt0\">lowest ask</div><div class=\"css-lxiaex e1inh05x0\" size=\"22\">$278</div></div></div><div class=\"change featured css-td8rut ees1vvt0\"></div></div></a></div>\n",
      "<div class=\"tile css-1bonzt1 e1yt6rrx0\" data-testid=\"product-tile\"><a href=\"/adidas-yeezy-boost-350-v2-sesame\" style=\"color: black;\"><div class=\"css-1c5ij41 e1sjmub50\" style=\"position: relative; padding-top: 58%;\"><span class=\"css-13o3lxt e1jyvhgp0\" style=\"display: inline-block;\"></span></div><div class=\"css-1spf6z8 e1b7sao0\"><div class=\"css-1iephdx e1inh05x0\" size=\"16\" style=\"height: 38px; overflow: hidden; margin-bottom: 6px;\">adidas Yeezy Boost 350 V2 Sesame</div><div><div class=\"price-line-div\"><div class=\"css-td8rut ees1vvt0\">lowest ask</div><div class=\"css-lxiaex e1inh05x0\" size=\"22\">$355</div></div></div><div class=\"change featured css-td8rut ees1vvt0\"></div></div></a></div>\n",
      "<div class=\"tile css-1bonzt1 e1yt6rrx0\" data-testid=\"product-tile\"><a href=\"/adidas-yeezy-boost-350-v2-static-black-reflective\" style=\"color: black;\"><div class=\"css-1c5ij41 e1sjmub50\" style=\"position: relative; padding-top: 58%;\"><span class=\"css-13o3lxt e1jyvhgp0\" style=\"display: inline-block;\"></span></div><div class=\"css-1spf6z8 e1b7sao0\"><div class=\"css-1iephdx e1inh05x0\" size=\"16\" style=\"height: 38px; overflow: hidden; margin-bottom: 6px;\">adidas Yeezy Boost 350 V2 Static Black (Reflective)</div><div><div class=\"price-line-div\"><div class=\"css-td8rut ees1vvt0\">lowest ask</div><div class=\"css-lxiaex e1inh05x0\" size=\"22\">$799</div></div></div><div class=\"change featured css-td8rut ees1vvt0\"></div></div></a></div>\n",
      "<div class=\"tile css-1bonzt1 e1yt6rrx0\" data-testid=\"product-tile\"><a href=\"/adidas-yeezy-boost-350-v2-butter\" style=\"color: black;\"><div class=\"css-1c5ij41 e1sjmub50\" style=\"position: relative; padding-top: 58%;\"><span class=\"css-13o3lxt e1jyvhgp0\" style=\"display: inline-block;\"></span></div><div class=\"css-1spf6z8 e1b7sao0\"><div class=\"css-1iephdx e1inh05x0\" size=\"16\" style=\"height: 38px; overflow: hidden; margin-bottom: 6px;\">adidas Yeezy Boost 350 V2 Butter</div><div><div class=\"price-line-div\"><div class=\"css-td8rut ees1vvt0\">lowest ask</div><div class=\"css-lxiaex e1inh05x0\" size=\"22\">$300</div></div></div><div class=\"change featured css-td8rut ees1vvt0\"></div></div></a></div>\n",
      "<div class=\"tile css-1bonzt1 e1yt6rrx0\" data-testid=\"product-tile\"><a href=\"/adidas-yeezy-boost-350-v2-beluga-2-0\" style=\"color: black;\"><div class=\"css-1c5ij41 e1sjmub50\" style=\"position: relative; padding-top: 58%;\"><span class=\"css-13o3lxt e1jyvhgp0\" style=\"display: inline-block;\"></span></div><div class=\"css-1spf6z8 e1b7sao0\"><div class=\"css-1iephdx e1inh05x0\" size=\"16\" style=\"height: 38px; overflow: hidden; margin-bottom: 6px;\">adidas Yeezy Boost 350 V2 Beluga 2.0</div><div><div class=\"price-line-div\"><div class=\"css-td8rut ees1vvt0\">lowest ask</div><div class=\"css-lxiaex e1inh05x0\" size=\"22\">$560</div></div></div><div class=\"change featured css-td8rut ees1vvt0\"></div></div></a></div>\n",
      "<div class=\"tile css-1bonzt1 e1yt6rrx0\" data-testid=\"product-tile\"><a href=\"/adidas-yeezy-boost-350-v2-lundmark\" style=\"color: black;\"><div class=\"css-1c5ij41 e1sjmub50\" style=\"position: relative; padding-top: 58%;\"><span class=\"css-13o3lxt e1jyvhgp0\" style=\"display: inline-block;\"></span></div><div class=\"css-1spf6z8 e1b7sao0\"><div class=\"css-1iephdx e1inh05x0\" size=\"16\" style=\"height: 38px; overflow: hidden; margin-bottom: 6px;\">adidas Yeezy Boost 350 V2 Lundmark (Non Reflective)</div><div><div class=\"price-line-div\"><div class=\"css-td8rut ees1vvt0\">lowest ask</div><div class=\"css-lxiaex e1inh05x0\" size=\"22\">$277</div></div></div><div class=\"change featured css-td8rut ees1vvt0\"></div></div></a></div>\n",
      "<div class=\"tile css-1bonzt1 e1yt6rrx0\" data-testid=\"product-tile\"><a href=\"/adidas-yeezy-boost-350-v2-blue-tint\" style=\"color: black;\"><div class=\"css-1c5ij41 e1sjmub50\" style=\"position: relative; padding-top: 58%;\"><span class=\"css-13o3lxt e1jyvhgp0\" style=\"display: inline-block;\"></span></div><div class=\"css-1spf6z8 e1b7sao0\"><div class=\"css-1iephdx e1inh05x0\" size=\"16\" style=\"height: 38px; overflow: hidden; margin-bottom: 6px;\">adidas Yeezy Boost 350 V2 Blue Tint</div><div><div class=\"price-line-div\"><div class=\"css-td8rut ees1vvt0\">lowest ask</div><div class=\"css-lxiaex e1inh05x0\" size=\"22\">$400</div></div></div><div class=\"change featured css-td8rut ees1vvt0\"></div></div></a></div>\n",
      "<div class=\"tile css-1bonzt1 e1yt6rrx0\" data-testid=\"product-tile\"><a href=\"/adidas-yeezy-boost-350-v2-core-black-red-2017\" style=\"color: black;\"><div class=\"css-1c5ij41 e1sjmub50\" style=\"position: relative; padding-top: 58%;\"><span class=\"css-13o3lxt e1jyvhgp0\" style=\"display: inline-block;\"></span></div><div class=\"css-1spf6z8 e1b7sao0\"><div class=\"css-1iephdx e1inh05x0\" size=\"16\" style=\"height: 38px; overflow: hidden; margin-bottom: 6px;\">adidas Yeezy Boost 350 V2 Black Red</div><div><div class=\"price-line-div\"><div class=\"css-td8rut ees1vvt0\">lowest ask</div><div class=\"css-lxiaex e1inh05x0\" size=\"22\">$787</div></div></div><div class=\"change featured css-td8rut ees1vvt0\"></div></div></a></div>\n",
      "<div class=\"tile css-1bonzt1 e1yt6rrx0\" data-testid=\"product-tile\"><a href=\"/adidas-yeezy-boost-350-v2-glow\" style=\"color: black;\"><div class=\"css-1c5ij41 e1sjmub50\" style=\"position: relative; padding-top: 58%;\"><span class=\"css-13o3lxt e1jyvhgp0\" style=\"display: inline-block;\"></span></div><div class=\"css-1spf6z8 e1b7sao0\"><div class=\"css-1iephdx e1inh05x0\" size=\"16\" style=\"height: 38px; overflow: hidden; margin-bottom: 6px;\">adidas Yeezy Boost 350 V2 Glow</div><div><div class=\"price-line-div\"><div class=\"css-td8rut ees1vvt0\">lowest ask</div><div class=\"css-lxiaex e1inh05x0\" size=\"22\">$500</div></div></div><div class=\"change featured css-td8rut ees1vvt0\"></div></div></a></div>\n",
      "<div class=\"tile css-1bonzt1 e1yt6rrx0\" data-testid=\"product-tile\"><a href=\"/adidas-yeezy-boost-350-v2-steeple-grey-beluga-solar-red\" style=\"color: black;\"><div class=\"css-1c5ij41 e1sjmub50\" style=\"position: relative; padding-top: 58%;\"><span class=\"css-13o3lxt e1jyvhgp0\" style=\"display: inline-block;\"></span></div><div class=\"css-1spf6z8 e1b7sao0\"><div class=\"css-1iephdx e1inh05x0\" size=\"16\" style=\"height: 38px; overflow: hidden; margin-bottom: 6px;\">adidas Yeezy Boost 350 V2 Beluga</div><div><div class=\"price-line-div\"><div class=\"css-td8rut ees1vvt0\">lowest ask</div><div class=\"css-lxiaex e1inh05x0\" size=\"22\">$800</div></div></div><div class=\"change featured css-td8rut ees1vvt0\"></div></div></a></div>\n",
      "<div class=\"tile css-1bonzt1 e1yt6rrx0\" data-testid=\"product-tile\"><a href=\"/adidas-yeezy-boost-350-v2-antlia\" style=\"color: black;\"><div class=\"css-1c5ij41 e1sjmub50\" style=\"position: relative; padding-top: 58%;\"><span class=\"css-13o3lxt e1jyvhgp0\" style=\"display: inline-block;\"></span></div><div class=\"css-1spf6z8 e1b7sao0\"><div class=\"css-1iephdx e1inh05x0\" size=\"16\" style=\"height: 38px; overflow: hidden; margin-bottom: 6px;\">adidas Yeezy Boost 350 V2 Antlia (Non-Reflective)</div><div><div class=\"price-line-div\"><div class=\"css-td8rut ees1vvt0\">lowest ask</div><div class=\"css-lxiaex e1inh05x0\" size=\"22\">$256</div></div></div><div class=\"change featured css-td8rut ees1vvt0\"></div></div></a></div>\n",
      "<div class=\"tile css-1bonzt1 e1yt6rrx0\" data-testid=\"product-tile\"><a href=\"/adidas-yeezy-boost-350-v2-static-reflective\" style=\"color: black;\"><div class=\"css-1c5ij41 e1sjmub50\" style=\"position: relative; padding-top: 58%;\"><img alt=\"adidas Yeezy Boost 350 V2 Static Reflective\" class=\"css-13o3lxt e1jyvhgp0\" src=\"https://stockx.imgix.net/adidas-Yeezy-Boost-350-V2-Static-Reflective-Product.jpg?fit=fill&amp;bg=FFFFFF&amp;w=300&amp;h=214&amp;auto=format,compress&amp;trim=color&amp;q=90&amp;dpr=2&amp;updated_at=1545956613\"/></div><div class=\"css-1spf6z8 e1b7sao0\"><div class=\"css-1iephdx e1inh05x0\" size=\"16\" style=\"height: 38px; overflow: hidden; margin-bottom: 6px;\">adidas Yeezy Boost 350 V2 Static Reflective</div><div><div class=\"price-line-div\"><div class=\"css-td8rut ees1vvt0\">lowest ask</div><div class=\"css-lxiaex e1inh05x0\" size=\"22\">$398</div></div></div><div class=\"change featured css-td8rut ees1vvt0\"></div></div></a></div>\n",
      "<div class=\"tile css-1bonzt1 e1yt6rrx0\" data-testid=\"product-tile\"><a href=\"/adidas-yeezy-boost-350-v2-synth\" style=\"color: black;\"><div class=\"css-1c5ij41 e1sjmub50\" style=\"position: relative; padding-top: 58%;\"><img alt=\"adidas Yeezy Boost 350 V2 Synth (Non-Reflective)\" class=\"css-13o3lxt e1jyvhgp0\" src=\"https://stockx.imgix.net/adidas-Yeezy-Boost-350-V2-Synth-Product.jpg?fit=fill&amp;bg=FFFFFF&amp;w=300&amp;h=214&amp;auto=format,compress&amp;trim=color&amp;q=90&amp;dpr=2&amp;updated_at=1603481985\"/></div><div class=\"css-1spf6z8 e1b7sao0\"><div class=\"css-1iephdx e1inh05x0\" size=\"16\" style=\"height: 38px; overflow: hidden; margin-bottom: 6px;\">adidas Yeezy Boost 350 V2 Synth (Non-Reflective)</div><div><div class=\"price-line-div\"><div class=\"css-td8rut ees1vvt0\">lowest ask</div><div class=\"css-lxiaex e1inh05x0\" size=\"22\">$290</div></div></div><div class=\"change featured css-td8rut ees1vvt0\"></div></div></a></div>\n",
      "<div class=\"tile css-1bonzt1 e1yt6rrx0\" data-testid=\"product-tile\"><a href=\"/adidas-yeezy-boost-350-v2-true-form\" style=\"color: black;\"><div class=\"css-1c5ij41 e1sjmub50\" style=\"position: relative; padding-top: 58%;\"><img alt=\"adidas Yeezy Boost 350 V2 Trfrm\" class=\"css-13o3lxt e1jyvhgp0\" src=\"https://stockx.imgix.net/adidas-Yeezy-Boost-350-V2-True-Form-Product.jpg?fit=fill&amp;bg=FFFFFF&amp;w=300&amp;h=214&amp;auto=format,compress&amp;trim=color&amp;q=90&amp;dpr=2&amp;updated_at=1603481985\"/></div><div class=\"css-1spf6z8 e1b7sao0\"><div class=\"css-1iephdx e1inh05x0\" size=\"16\" style=\"height: 38px; overflow: hidden; margin-bottom: 6px;\">adidas Yeezy Boost 350 V2 Trfrm</div><div><div class=\"price-line-div\"><div class=\"css-td8rut ees1vvt0\">lowest ask</div><div class=\"css-lxiaex e1inh05x0\" size=\"22\">$300</div></div></div><div class=\"change featured css-td8rut ees1vvt0\"></div></div></a></div>\n",
      "<div class=\"tile css-1bonzt1 e1yt6rrx0\" data-testid=\"product-tile\"><a href=\"/adidas-yeezy-boost-350-v2-flax\" style=\"color: black;\"><div class=\"css-1c5ij41 e1sjmub50\" style=\"position: relative; padding-top: 58%;\"><img alt=\"adidas Yeezy Boost 350 V2 Flax\" class=\"css-13o3lxt e1jyvhgp0\" src=\"https://stockx.imgix.net/adidas-Yeezy-Boost-350-V2-Flax.png?fit=fill&amp;bg=FFFFFF&amp;w=300&amp;h=214&amp;auto=format,compress&amp;trim=color&amp;q=90&amp;dpr=2&amp;updated_at=1603481985\"/></div><div class=\"css-1spf6z8 e1b7sao0\"><div class=\"css-1iephdx e1inh05x0\" size=\"16\" style=\"height: 38px; overflow: hidden; margin-bottom: 6px;\">adidas Yeezy Boost 350 V2 Flax</div><div><div class=\"price-line-div\"><div class=\"css-td8rut ees1vvt0\">lowest ask</div><div class=\"css-lxiaex e1inh05x0\" size=\"22\">$333</div></div></div><div class=\"change featured css-td8rut ees1vvt0\"></div></div></a></div>\n",
      "<div class=\"tile css-1bonzt1 e1yt6rrx0\" data-testid=\"product-tile\"><a href=\"/adidas-yeezy-boost-350-v2-hyperspace\" style=\"color: black;\"><div class=\"css-1c5ij41 e1sjmub50\" style=\"position: relative; padding-top: 58%;\"><img alt=\"adidas Yeezy Boost 350 V2 Hyperspace\" class=\"css-13o3lxt e1jyvhgp0\" src=\"https://stockx.imgix.net/adidas-Yeezy-Boost-350-V2-Hyperspace-Product.jpg?fit=fill&amp;bg=FFFFFF&amp;w=300&amp;h=214&amp;auto=format,compress&amp;trim=color&amp;q=90&amp;dpr=2&amp;updated_at=1553183126\"/></div><div class=\"css-1spf6z8 e1b7sao0\"><div class=\"css-1iephdx e1inh05x0\" size=\"16\" style=\"height: 38px; overflow: hidden; margin-bottom: 6px;\">adidas Yeezy Boost 350 V2 Hyperspace</div><div><div class=\"price-line-div\"><div class=\"css-td8rut ees1vvt0\">lowest ask</div><div class=\"css-lxiaex e1inh05x0\" size=\"22\">$380</div></div></div><div class=\"change featured css-td8rut ees1vvt0\"></div></div></a></div>\n",
      "<div class=\"tile css-1bonzt1 e1yt6rrx0\" data-testid=\"product-tile\"><a href=\"/adidas-yeezy-boost-350-v2-core-black-red\" style=\"color: black;\"><div class=\"css-1c5ij41 e1sjmub50\" style=\"position: relative; padding-top: 58%;\"><img alt=\"adidas Yeezy Boost 350 V2 Core Black Red\" class=\"css-13o3lxt e1jyvhgp0\" src=\"https://stockx.imgix.net/Adidas-Yeezy-Boost-350-V2-Core-Black-Red-Product.jpg?fit=fill&amp;bg=FFFFFF&amp;w=300&amp;h=214&amp;auto=format,compress&amp;trim=color&amp;q=90&amp;dpr=2&amp;updated_at=1603481985\"/></div><div class=\"css-1spf6z8 e1b7sao0\"><div class=\"css-1iephdx e1inh05x0\" size=\"16\" style=\"height: 38px; overflow: hidden; margin-bottom: 6px;\">adidas Yeezy Boost 350 V2 Core Black Red</div><div><div class=\"price-line-div\"><div class=\"css-td8rut ees1vvt0\">lowest ask</div><div class=\"css-lxiaex e1inh05x0\" size=\"22\">$1,055</div></div></div><div class=\"change featured css-td8rut ees1vvt0\"></div></div></a></div>\n",
      "<div class=\"tile css-1bonzt1 e1yt6rrx0\" data-testid=\"product-tile\"><a href=\"/adidas-yeezy-boost-350-moonrock\" style=\"color: black;\"><div class=\"css-1c5ij41 e1sjmub50\" style=\"position: relative; padding-top: 58%;\"><img alt=\"adidas Yeezy Boost 350 Moonrock\" class=\"css-13o3lxt e1jyvhgp0\" src=\"https://stockx.imgix.net/Adidas-Yeezy-Boost-350-Low-Moonrock-Product.jpg?fit=fill&amp;bg=FFFFFF&amp;w=300&amp;h=214&amp;auto=format,compress&amp;trim=color&amp;q=90&amp;dpr=2&amp;updated_at=1603481985\"/></div><div class=\"css-1spf6z8 e1b7sao0\"><div class=\"css-1iephdx e1inh05x0\" size=\"16\" style=\"height: 38px; overflow: hidden; margin-bottom: 6px;\">adidas Yeezy Boost 350 Moonrock</div><div><div class=\"price-line-div\"><div class=\"css-td8rut ees1vvt0\">lowest ask</div><div class=\"css-lxiaex e1inh05x0\" size=\"22\">$800</div></div></div><div class=\"change featured css-td8rut ees1vvt0\"></div></div></a></div>\n",
      "<div class=\"tile css-1bonzt1 e1yt6rrx0\" data-testid=\"product-tile\"><a href=\"/adidas-yeezy-boost-350-turtledove\" style=\"color: black;\"><div class=\"css-1c5ij41 e1sjmub50\" style=\"position: relative; padding-top: 58%;\"><img alt=\"adidas Yeezy Boost 350 Turtledove\" class=\"css-13o3lxt e1jyvhgp0\" src=\"https://stockx.imgix.net/Adidas-Yeezy-Boost-350-Low-Turtledove-Product.jpg?fit=fill&amp;bg=FFFFFF&amp;w=300&amp;h=214&amp;auto=format,compress&amp;trim=color&amp;q=90&amp;dpr=2&amp;updated_at=1538080256\"/></div><div class=\"css-1spf6z8 e1b7sao0\"><div class=\"css-1iephdx e1inh05x0\" size=\"16\" style=\"height: 38px; overflow: hidden; margin-bottom: 6px;\">adidas Yeezy Boost 350 Turtledove</div><div><div class=\"price-line-div\"><div class=\"css-td8rut ees1vvt0\">lowest ask</div><div class=\"css-lxiaex e1inh05x0\" size=\"22\">$1,400</div></div></div><div class=\"change featured css-td8rut ees1vvt0\"></div></div></a></div>\n",
      "<div class=\"tile css-1bonzt1 e1yt6rrx0\" data-testid=\"product-tile\"><a href=\"/adidas-yeezy-boost-350-v2-natural\" style=\"color: black;\"><div class=\"css-1c5ij41 e1sjmub50\" style=\"position: relative; padding-top: 58%;\"><img alt=\"adidas Yeezy Boost 350 V2 Natural\" class=\"css-13o3lxt e1jyvhgp0\" src=\"https://stockx.imgix.net/adidas-Yeezy-Boost-350-V2-Natural-1.png?fit=fill&amp;bg=FFFFFF&amp;w=300&amp;h=214&amp;auto=format,compress&amp;trim=color&amp;q=90&amp;dpr=2&amp;updated_at=1603481985\"/></div><div class=\"css-1spf6z8 e1b7sao0\"><div class=\"css-1iephdx e1inh05x0\" size=\"16\" style=\"height: 38px; overflow: hidden; margin-bottom: 6px;\">adidas Yeezy Boost 350 V2 Natural</div><div><div class=\"price-line-div\"><div class=\"css-td8rut ees1vvt0\">lowest ask</div><div class=\"css-lxiaex e1inh05x0\" size=\"22\">$270</div></div></div><div class=\"change featured css-td8rut ees1vvt0\"></div></div></a></div>\n",
      "<div class=\"tile css-1bonzt1 e1yt6rrx0\" data-testid=\"product-tile\"><a href=\"/adidas-yeezy-boost-350-v2-israfil\" style=\"color: black;\"><div class=\"css-1c5ij41 e1sjmub50\" style=\"position: relative; padding-top: 58%;\"><img alt=\"adidas Yeezy Boost 350 V2 Israfil\" class=\"css-13o3lxt e1jyvhgp0\" src=\"https://stockx.imgix.net/adidas-Yeezy-Boost-350-V2-Israfil-Product.jpg?fit=fill&amp;bg=FFFFFF&amp;w=300&amp;h=214&amp;auto=format,compress&amp;trim=color&amp;q=90&amp;dpr=2&amp;updated_at=1603481985\"/></div><div class=\"css-1spf6z8 e1b7sao0\"><div class=\"css-1iephdx e1inh05x0\" size=\"16\" style=\"height: 38px; overflow: hidden; margin-bottom: 6px;\">adidas Yeezy Boost 350 V2 Israfil</div><div><div class=\"price-line-div\"><div class=\"css-td8rut ees1vvt0\">lowest ask</div><div class=\"css-lxiaex e1inh05x0\" size=\"22\">$250</div></div></div><div class=\"change featured css-td8rut ees1vvt0\"></div></div></a></div>\n",
      "<div class=\"tile css-1bonzt1 e1yt6rrx0\" data-testid=\"product-tile\"><a href=\"/adidas-yeezy-boost-350-v2-black\" style=\"color: black;\"><div class=\"css-1c5ij41 e1sjmub50\" style=\"position: relative; padding-top: 58%;\"><img alt=\"adidas Yeezy Boost 350 V2 Black (Non-Reflective)\" class=\"css-13o3lxt e1jyvhgp0\" src=\"https://stockx.imgix.net/adidas-Yeezy-Boost-350-V2-Black-Product.jpg?fit=fill&amp;bg=FFFFFF&amp;w=300&amp;h=214&amp;auto=format,compress&amp;trim=color&amp;q=90&amp;dpr=2&amp;updated_at=1603481985\"/></div><div class=\"css-1spf6z8 e1b7sao0\"><div class=\"css-1iephdx e1inh05x0\" size=\"16\" style=\"height: 38px; overflow: hidden; margin-bottom: 6px;\">adidas Yeezy Boost 350 V2 Black (Non-Reflective)</div><div><div class=\"price-line-div\"><div class=\"css-td8rut ees1vvt0\">lowest ask</div><div class=\"css-lxiaex e1inh05x0\" size=\"22\">$400</div></div></div><div class=\"change featured css-td8rut ees1vvt0\"></div></div></a></div>\n",
      "<div class=\"tile css-1bonzt1 e1yt6rrx0\" data-testid=\"product-tile\"><a href=\"/adidas-yeezy-boost-350-v2-marsh\" style=\"color: black;\"><div class=\"css-1c5ij41 e1sjmub50\" style=\"position: relative; padding-top: 58%;\"><img alt=\"adidas Yeezy Boost 350 V2 Marsh\" class=\"css-13o3lxt e1jyvhgp0\" src=\"https://stockx.imgix.net/adidas-Yeezy-Boost-350-V2-Marsh-Product.jpg?fit=fill&amp;bg=FFFFFF&amp;w=300&amp;h=214&amp;auto=format,compress&amp;trim=color&amp;q=90&amp;dpr=2&amp;updated_at=1603481985\"/></div><div class=\"css-1spf6z8 e1b7sao0\"><div class=\"css-1iephdx e1inh05x0\" size=\"16\" style=\"height: 38px; overflow: hidden; margin-bottom: 6px;\">adidas Yeezy Boost 350 V2 Marsh</div><div><div class=\"price-line-div\"><div class=\"css-td8rut ees1vvt0\">lowest ask</div><div class=\"css-lxiaex e1inh05x0\" size=\"22\">$239</div></div></div><div class=\"change featured css-td8rut ees1vvt0\"></div></div></a></div>\n"
     ]
    }
   ],
   "source": [
    "#Get urls for each tile\n",
    "search_urls = []\n",
    "\n",
    "for tile in search_result_tiles:\n",
    "    link = tile.find('a')\n",
    "    item_link_href = link['href']\n",
    "    item_link = 'https://stockx.com/'+ item_link_href\n",
    "    \n",
    "    search_urls.append(item_link)"
   ]
  },
  {
   "cell_type": "markdown",
   "metadata": {},
   "source": [
    "## Get the details from the products"
   ]
  },
  {
   "cell_type": "markdown",
   "metadata": {},
   "source": [
    "If you already have a list of urls you want to get information for, just create a list and use it in the function below"
   ]
  },
  {
   "cell_type": "code",
   "execution_count": 146,
   "metadata": {},
   "outputs": [
    {
     "name": "stdout",
     "output_type": "stream",
     "text": [
      "40 products\n",
      "https://stockx.com//adidas-yeezy-boost-350-v2-asriel\n",
      "https://stockx.com//adidas-yeezy-boost-350-v2-zyon\n",
      "https://stockx.com//adidas-yeezy-boost-350-v2-cinder\n",
      "https://stockx.com//adidas-yeezy-boost-350-v2-white-core-black-red\n",
      "https://stockx.com//adidas-yeezy-boost-350-v2-desert-sage\n",
      "https://stockx.com//adidas-yeezy-boost-350-v2-yecheil\n",
      "https://stockx.com//adidas-yeezy-boost-350-v2-cream-white\n",
      "https://stockx.com//adidas-yeezy-boost-350-v2-yeezreel\n",
      "https://stockx.com//adidas-yeezy-boost-350-v2-tail-light\n",
      "https://stockx.com//adidas-yeezy-boost-350-v2-earth\n",
      "https://stockx.com//adidas-yeezy-boost-350-v2-citrin\n",
      "https://stockx.com//adidas-yeezy-boost-350-v2-cloud-white\n",
      "https://stockx.com//adidas-yeezy-boost-350-v2-linen\n",
      "https://stockx.com//adidas-yeezy-boost-350-v2-static\n",
      "https://stockx.com//adidas-yeezy-boost-350-v2-yeshaya\n",
      "https://stockx.com//adidas-yeezy-boost-350-v2-sulfur\n",
      "https://stockx.com//adidas-yeezy-boost-350-v2-semi-frozen-yellow\n",
      "https://stockx.com//adidas-yeezy-boost-350-v2-clay\n",
      "https://stockx.com//adidas-yeezy-boost-350-v2-sesame\n",
      "https://stockx.com//adidas-yeezy-boost-350-v2-static-black-reflective\n",
      "https://stockx.com//adidas-yeezy-boost-350-v2-butter\n",
      "https://stockx.com//adidas-yeezy-boost-350-v2-beluga-2-0\n",
      "https://stockx.com//adidas-yeezy-boost-350-v2-lundmark\n",
      "https://stockx.com//adidas-yeezy-boost-350-v2-blue-tint\n",
      "https://stockx.com//adidas-yeezy-boost-350-v2-core-black-red-2017\n",
      "https://stockx.com//adidas-yeezy-boost-350-v2-glow\n",
      "https://stockx.com//adidas-yeezy-boost-350-v2-steeple-grey-beluga-solar-red\n",
      "https://stockx.com//adidas-yeezy-boost-350-v2-antlia\n",
      "https://stockx.com//adidas-yeezy-boost-350-v2-static-reflective\n",
      "https://stockx.com//adidas-yeezy-boost-350-v2-synth\n",
      "https://stockx.com//adidas-yeezy-boost-350-v2-true-form\n",
      "https://stockx.com//adidas-yeezy-boost-350-v2-flax\n",
      "https://stockx.com//adidas-yeezy-boost-350-v2-hyperspace\n",
      "https://stockx.com//adidas-yeezy-boost-350-v2-core-black-red\n",
      "https://stockx.com//adidas-yeezy-boost-350-moonrock\n",
      "https://stockx.com//adidas-yeezy-boost-350-turtledove\n",
      "https://stockx.com//adidas-yeezy-boost-350-v2-natural\n",
      "https://stockx.com//adidas-yeezy-boost-350-v2-israfil\n",
      "https://stockx.com//adidas-yeezy-boost-350-v2-black\n",
      "https://stockx.com//adidas-yeezy-boost-350-v2-marsh\n"
     ]
    }
   ],
   "source": [
    "prod_info_list, sales_info_list, not_found = get_product_details(driver, search_urls)"
   ]
  },
  {
   "cell_type": "code",
   "execution_count": 147,
   "metadata": {},
   "outputs": [],
   "source": [
    "#Create dataframes\n",
    "prods_df =  pd.DataFrame.from_records(prod_info_list)\n",
    "sales_df =  pd.DataFrame.from_records(sales_info_list)"
   ]
  },
  {
   "cell_type": "code",
   "execution_count": 148,
   "metadata": {},
   "outputs": [
    {
     "data": {
      "text/html": [
       "<div>\n",
       "<style scoped>\n",
       "    .dataframe tbody tr th:only-of-type {\n",
       "        vertical-align: middle;\n",
       "    }\n",
       "\n",
       "    .dataframe tbody tr th {\n",
       "        vertical-align: top;\n",
       "    }\n",
       "\n",
       "    .dataframe thead th {\n",
       "        text-align: right;\n",
       "    }\n",
       "</style>\n",
       "<table border=\"1\" class=\"dataframe\">\n",
       "  <thead>\n",
       "    <tr style=\"text-align: right;\">\n",
       "      <th></th>\n",
       "      <th>url</th>\n",
       "      <th>name</th>\n",
       "      <th>Style</th>\n",
       "      <th>Colorway</th>\n",
       "      <th>Retail Price</th>\n",
       "      <th>Release Date</th>\n",
       "    </tr>\n",
       "  </thead>\n",
       "  <tbody>\n",
       "    <tr>\n",
       "      <th>0</th>\n",
       "      <td>https://stockx.com//adidas-yeezy-boost-350-v2-...</td>\n",
       "      <td>adidas Yeezy Boost 350 V2 Carbon</td>\n",
       "      <td>FZ5000</td>\n",
       "      <td>Carbon/Carbon/Carbon</td>\n",
       "      <td>$220</td>\n",
       "      <td>10/02/2020</td>\n",
       "    </tr>\n",
       "    <tr>\n",
       "      <th>1</th>\n",
       "      <td>https://stockx.com//adidas-yeezy-boost-350-v2-...</td>\n",
       "      <td>adidas Yeezy Boost 350 V2 Zyon</td>\n",
       "      <td>FZ1267</td>\n",
       "      <td>Zyon/Zyon/Zyon</td>\n",
       "      <td>$220</td>\n",
       "      <td>07/18/2020</td>\n",
       "    </tr>\n",
       "    <tr>\n",
       "      <th>2</th>\n",
       "      <td>https://stockx.com//adidas-yeezy-boost-350-v2-...</td>\n",
       "      <td>adidas Yeezy Boost 350 V2 Cinder</td>\n",
       "      <td>FY2903</td>\n",
       "      <td>Cinder/Cinder/Cinder</td>\n",
       "      <td>$220</td>\n",
       "      <td>03/21/2020</td>\n",
       "    </tr>\n",
       "    <tr>\n",
       "      <th>3</th>\n",
       "      <td>https://stockx.com//adidas-yeezy-boost-350-v2-...</td>\n",
       "      <td>adidas Yeezy Boost 350 V2 Zebra</td>\n",
       "      <td>CP9654</td>\n",
       "      <td>NaN</td>\n",
       "      <td>$220</td>\n",
       "      <td>02/25/2017</td>\n",
       "    </tr>\n",
       "    <tr>\n",
       "      <th>4</th>\n",
       "      <td>https://stockx.com//adidas-yeezy-boost-350-v2-...</td>\n",
       "      <td>adidas Yeezy Boost 350 V2 Desert Sage</td>\n",
       "      <td>FX9035</td>\n",
       "      <td>Desert Sage/Desert Sage/Desert Sage</td>\n",
       "      <td>$220</td>\n",
       "      <td>03/14/2020</td>\n",
       "    </tr>\n",
       "  </tbody>\n",
       "</table>\n",
       "</div>"
      ],
      "text/plain": [
       "                                                 url  \\\n",
       "0  https://stockx.com//adidas-yeezy-boost-350-v2-...   \n",
       "1  https://stockx.com//adidas-yeezy-boost-350-v2-...   \n",
       "2  https://stockx.com//adidas-yeezy-boost-350-v2-...   \n",
       "3  https://stockx.com//adidas-yeezy-boost-350-v2-...   \n",
       "4  https://stockx.com//adidas-yeezy-boost-350-v2-...   \n",
       "\n",
       "                                    name     Style  \\\n",
       "0       adidas Yeezy Boost 350 V2 Carbon   FZ5000    \n",
       "1         adidas Yeezy Boost 350 V2 Zyon   FZ1267    \n",
       "2       adidas Yeezy Boost 350 V2 Cinder   FY2903    \n",
       "3        adidas Yeezy Boost 350 V2 Zebra   CP9654    \n",
       "4  adidas Yeezy Boost 350 V2 Desert Sage   FX9035    \n",
       "\n",
       "                                Colorway Retail Price  Release Date  \n",
       "0                  Carbon/Carbon/Carbon         $220    10/02/2020   \n",
       "1                        Zyon/Zyon/Zyon         $220    07/18/2020   \n",
       "2                  Cinder/Cinder/Cinder         $220    03/21/2020   \n",
       "3                                    NaN        $220    02/25/2017   \n",
       "4   Desert Sage/Desert Sage/Desert Sage         $220    03/14/2020   "
      ]
     },
     "execution_count": 148,
     "metadata": {},
     "output_type": "execute_result"
    }
   ],
   "source": [
    "prods_df.head()"
   ]
  },
  {
   "cell_type": "code",
   "execution_count": 149,
   "metadata": {},
   "outputs": [
    {
     "data": {
      "text/html": [
       "<div>\n",
       "<style scoped>\n",
       "    .dataframe tbody tr th:only-of-type {\n",
       "        vertical-align: middle;\n",
       "    }\n",
       "\n",
       "    .dataframe tbody tr th {\n",
       "        vertical-align: top;\n",
       "    }\n",
       "\n",
       "    .dataframe thead th {\n",
       "        text-align: right;\n",
       "    }\n",
       "</style>\n",
       "<table border=\"1\" class=\"dataframe\">\n",
       "  <thead>\n",
       "    <tr style=\"text-align: right;\">\n",
       "      <th></th>\n",
       "      <th>url</th>\n",
       "      <th>Size</th>\n",
       "      <th>Sale Price</th>\n",
       "      <th>Date</th>\n",
       "      <th>Time</th>\n",
       "    </tr>\n",
       "  </thead>\n",
       "  <tbody>\n",
       "    <tr>\n",
       "      <th>0</th>\n",
       "      <td>https://stockx.com//adidas-yeezy-boost-350-v2-...</td>\n",
       "      <td>10</td>\n",
       "      <td>$259</td>\n",
       "      <td>Saturday, October 24, 2020</td>\n",
       "      <td>8:00 PM EST</td>\n",
       "    </tr>\n",
       "    <tr>\n",
       "      <th>1</th>\n",
       "      <td>https://stockx.com//adidas-yeezy-boost-350-v2-...</td>\n",
       "      <td>9.5</td>\n",
       "      <td>$264</td>\n",
       "      <td>Saturday, October 24, 2020</td>\n",
       "      <td>7:53 PM EST</td>\n",
       "    </tr>\n",
       "    <tr>\n",
       "      <th>2</th>\n",
       "      <td>https://stockx.com//adidas-yeezy-boost-350-v2-...</td>\n",
       "      <td>10.5</td>\n",
       "      <td>$262</td>\n",
       "      <td>Saturday, October 24, 2020</td>\n",
       "      <td>7:51 PM EST</td>\n",
       "    </tr>\n",
       "    <tr>\n",
       "      <th>3</th>\n",
       "      <td>https://stockx.com//adidas-yeezy-boost-350-v2-...</td>\n",
       "      <td>6</td>\n",
       "      <td>$294</td>\n",
       "      <td>Saturday, October 24, 2020</td>\n",
       "      <td>7:37 PM EST</td>\n",
       "    </tr>\n",
       "    <tr>\n",
       "      <th>4</th>\n",
       "      <td>https://stockx.com//adidas-yeezy-boost-350-v2-...</td>\n",
       "      <td>11.5</td>\n",
       "      <td>$285</td>\n",
       "      <td>Saturday, October 24, 2020</td>\n",
       "      <td>7:36 PM EST</td>\n",
       "    </tr>\n",
       "  </tbody>\n",
       "</table>\n",
       "</div>"
      ],
      "text/plain": [
       "                                                 url  Size Sale Price  \\\n",
       "0  https://stockx.com//adidas-yeezy-boost-350-v2-...    10       $259   \n",
       "1  https://stockx.com//adidas-yeezy-boost-350-v2-...   9.5       $264   \n",
       "2  https://stockx.com//adidas-yeezy-boost-350-v2-...  10.5       $262   \n",
       "3  https://stockx.com//adidas-yeezy-boost-350-v2-...     6       $294   \n",
       "4  https://stockx.com//adidas-yeezy-boost-350-v2-...  11.5       $285   \n",
       "\n",
       "                         Date         Time  \n",
       "0  Saturday, October 24, 2020  8:00 PM EST  \n",
       "1  Saturday, October 24, 2020  7:53 PM EST  \n",
       "2  Saturday, October 24, 2020  7:51 PM EST  \n",
       "3  Saturday, October 24, 2020  7:37 PM EST  \n",
       "4  Saturday, October 24, 2020  7:36 PM EST  "
      ]
     },
     "execution_count": 149,
     "metadata": {},
     "output_type": "execute_result"
    }
   ],
   "source": [
    "sales_df.head()"
   ]
  },
  {
   "cell_type": "code",
   "execution_count": 163,
   "metadata": {},
   "outputs": [],
   "source": [
    "prods_df.to_excel(\"prods.xlsx\")\n",
    "sales_df.to_excel(os.getcwd() + '/sales.xlsx')"
   ]
  },
  {
   "cell_type": "code",
   "execution_count": 155,
   "metadata": {},
   "outputs": [
    {
     "data": {
      "text/plain": [
       "'/Users/fernandocueva/Library/Mobile Documents/com~apple~CloudDocs/.Trash/sneakerTimeSeries/stockx_scraper-master'"
      ]
     },
     "execution_count": 155,
     "metadata": {},
     "output_type": "execute_result"
    }
   ],
   "source": [
    "os.getcwd()"
   ]
  },
  {
   "cell_type": "code",
   "execution_count": 167,
   "metadata": {},
   "outputs": [],
   "source": [
    "fernando = prods_df.copy()"
   ]
  },
  {
   "cell_type": "code",
   "execution_count": 168,
   "metadata": {},
   "outputs": [],
   "source": [
    "fernando.to_csv('fernando.csv')"
   ]
  }
 ],
 "metadata": {
  "kernelspec": {
   "display_name": "Python 3",
   "language": "python",
   "name": "python3"
  },
  "language_info": {
   "codemirror_mode": {
    "name": "ipython",
    "version": 3
   },
   "file_extension": ".py",
   "mimetype": "text/x-python",
   "name": "python",
   "nbconvert_exporter": "python",
   "pygments_lexer": "ipython3",
   "version": "3.8.3"
  }
 },
 "nbformat": 4,
 "nbformat_minor": 4
}
