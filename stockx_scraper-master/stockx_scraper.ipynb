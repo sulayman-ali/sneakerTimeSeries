{
 "cells": [
  {
   "cell_type": "code",
   "execution_count": 1,
   "metadata": {},
   "outputs": [],
   "source": [
    "#Import packages\n",
    "from selenium import webdriver\n",
    "from selenium.webdriver.common.by import By\n",
    "from selenium.webdriver.support.ui import WebDriverWait\n",
    "from selenium.webdriver.support import expected_conditions as EC\n",
    "import pandas as pd\n",
    "from bs4 import BeautifulSoup\n",
    "from time import sleep\n",
    "from random import randint\n",
    "import os\n",
    "from selenium.common.exceptions import TimeoutException"
   ]
  },
  {
   "cell_type": "code",
   "execution_count": 2,
   "metadata": {},
   "outputs": [],
   "source": [
    "#Reference the current working directory\n",
    "cwd = os.getcwd()"
   ]
  },
  {
   "cell_type": "markdown",
   "metadata": {},
   "source": [
    "## Create functions"
   ]
  },
  {
   "cell_type": "code",
   "execution_count": 3,
   "metadata": {},
   "outputs": [],
   "source": [
    "def page_scroller(browser_driver, num_scrolls, wait_time):\n",
    "    for i in range(num_scrolls):\n",
    "        browser_driver.execute_script(\"window.scrollBy(0, 2000);\")\n",
    "        sleep(wait_time)"
   ]
  },
  {
   "cell_type": "code",
   "execution_count": 4,
   "metadata": {},
   "outputs": [],
   "source": [
    "def get_product_details(browser_driver, product_url_list):\n",
    "    #Create a list for dictionaries\n",
    "    prods = []\n",
    "    sales = []\n",
    "    error_prods = []\n",
    "    \n",
    "    print(str(len(product_url_list))+' products')\n",
    "    for url in product_url_list:\n",
    "        #Random sleep time\n",
    "        sleep(randint(3,6))\n",
    "        \n",
    "        #Create an empty dictionary of results\n",
    "        prod_details = {}\n",
    "        \n",
    "        \n",
    "        #Add the url to the dictionary\n",
    "        prod_details['url'] = url\n",
    "        \n",
    "        #Go to the item page\n",
    "        print(url)\n",
    "        \n",
    "        try:\n",
    "            driver.get(url = url)\n",
    "        except TimeoutException:\n",
    "            prod_details['status'] = 'Could not retrieve product information'\n",
    "            error_prods.append(url)\n",
    "        else:\n",
    "            sleep(3)\n",
    "            #Get the html from the link\n",
    "            soup = BeautifulSoup(driver.page_source, 'html.parser')\n",
    "\n",
    "\n",
    "            #Get product details and add to dictionary\n",
    "            #Get the name\n",
    "            product_name = soup.find('h1', class_ = 'name').text\n",
    "            prod_details['name'] = product_name\n",
    "            #print(product_name)\n",
    "\n",
    "            #Get the other details\n",
    "            #Some products have a product details column, others have a product details row\n",
    "            if soup.find('div', class_ = 'product-details detail-column') != None:\n",
    "                prod_info_section = soup.find('div', class_ = 'product-details detail-column').find_all('div', class_ = 'detail')\n",
    "            elif soup.find('div', class_ = 'product-details detail-row') != None:    \n",
    "                prod_info_section = soup.find('div', class_ = 'product-details detail-row').find_all('div', class_ = 'detail')\n",
    "            else:\n",
    "                prod_details['status'] = 'Could not retrieve product information'\n",
    "\n",
    "            #Loop thorugh all of the product details in that section of the page\n",
    "            for info_item in prod_info_section:\n",
    "                info_label = info_item.find('span', class_ = 'title').text\n",
    "                info_value = info_item.find('span', class_ = False).text\n",
    "\n",
    "                #Add to dictionary\n",
    "                prod_details[info_label] = info_value\n",
    "\n",
    "            prods.append(prod_details)\n",
    "\n",
    "\n",
    "\n",
    "\n",
    "\n",
    "            ######## GET HISTORIC SALES #######\n",
    "            #Find the view all sales button using the link text\n",
    "            driver.find_element_by_link_text(\"View All Sales\").click()\n",
    "            soup = BeautifulSoup(driver.page_source, 'html.parser')\n",
    "\n",
    "            historic_sales_head = soup.find('div', class_ = \"latest-sales-container\").thead\n",
    "            historic_sales_body = soup.find('div', class_ = \"latest-sales-container\").tbody\n",
    "\n",
    "            #Get the headings for the sales section\n",
    "            if historic_sales_body is not None:\n",
    "                all_header = historic_sales_head.find_all('th')\n",
    "                all_sales = historic_sales_body.find_all('tr')\n",
    "\n",
    "                #Make sure atleast one sale has occured\n",
    "\n",
    "                #Do this for every sale in the sales\n",
    "                for sale in all_sales:\n",
    "                    #Get a sales record\n",
    "                    prod_sales = {}\n",
    "                    prod_sales['url'] = item_link\n",
    "                    all_variables = sale.find_all('td')\n",
    "\n",
    "                    for header, value in zip(all_header, all_variables):\n",
    "                        prod_sales[header.text] = value.text\n",
    "                    #Append to list    \n",
    "                    sales.append(prod_sales)    \n",
    "\n",
    "\n",
    "    \n",
    "    #Return the list of results\n",
    "    return prods, sales, error_prods    "
   ]
  },
  {
   "cell_type": "markdown",
   "metadata": {},
   "source": [
    "## Login\n",
    "Logging in is required to get unrestricted access to historic sales"
   ]
  },
  {
   "cell_type": "code",
   "execution_count": 5,
   "metadata": {},
   "outputs": [],
   "source": [
    "#Instantiate a firefix session - Requires geckodriver in the current working directory\n",
    "driver = webdriver.Safari()\n",
    "sleep(2)"
   ]
  },
  {
   "cell_type": "code",
   "execution_count": 6,
   "metadata": {},
   "outputs": [],
   "source": [
    "#Load credentials from .py file\n",
    "# from credentials import username, password"
   ]
  },
  {
   "cell_type": "code",
   "execution_count": 7,
   "metadata": {},
   "outputs": [],
   "source": [
    "pw = open('passwords.txt').read().splitlines()"
   ]
  },
  {
   "cell_type": "code",
   "execution_count": 8,
   "metadata": {},
   "outputs": [],
   "source": [
    "username = pw[0]\n",
    "password = pw[1]"
   ]
  },
  {
   "cell_type": "code",
   "execution_count": 9,
   "metadata": {},
   "outputs": [],
   "source": [
    "#Navigate to login page\n",
    "driver.get(url = \"https://stockx.com/login\")"
   ]
  },
  {
   "cell_type": "code",
   "execution_count": 10,
   "metadata": {},
   "outputs": [],
   "source": [
    "from selenium.webdriver.common.keys import Keys\n",
    "email = WebDriverWait(driver, 5).until(EC.element_to_be_clickable((By.ID, \"email-login\")))\n",
    "email.send_keys(username)\n",
    "key = WebDriverWait(driver, 5).until(EC.element_to_be_clickable((By.ID, \"password-login\")))\n",
    "key.send_keys(password)\n",
    "key.send_keys(Keys.RETURN)"
   ]
  },
  {
   "cell_type": "markdown",
   "metadata": {},
   "source": [
    "## Get products from a search\n",
    "This section can be bypassed if you have list of product urls you want to retrieve information from\n"
   ]
  },
  {
   "cell_type": "code",
   "execution_count": 11,
   "metadata": {},
   "outputs": [],
   "source": [
    "#Replace search_term with whatever you're looking for\n",
    "#Spaces need to be replaced with %20\n",
    "search_term = \"yeezy 350\"\n",
    "search_term_converted = search_term.replace(' ', '%20')"
   ]
  },
  {
   "cell_type": "code",
   "execution_count": 12,
   "metadata": {},
   "outputs": [],
   "source": [
    "#Search\n",
    "driver.get(url = \"https://stockx.com/search?s=\"+search_term_converted)"
   ]
  },
  {
   "cell_type": "code",
   "execution_count": 13,
   "metadata": {},
   "outputs": [],
   "source": [
    "#Scroll down to load all items - Use a large number if you expect many results\n",
    "page_scroller(driver, 10, 3)"
   ]
  },
  {
   "cell_type": "code",
   "execution_count": 14,
   "metadata": {},
   "outputs": [],
   "source": [
    "#Get the html from the page\n",
    "soup = BeautifulSoup(driver.page_source, 'html.parser')"
   ]
  },
  {
   "cell_type": "code",
   "execution_count": 15,
   "metadata": {},
   "outputs": [],
   "source": [
    "#Get the results grid\n",
    "search_result_grid=  soup.find('div', class_ = \"browse-grid\")"
   ]
  },
  {
   "cell_type": "code",
   "execution_count": 16,
   "metadata": {},
   "outputs": [],
   "source": [
    "#Get the results tiles\n",
    "search_result_tiles = search_result_grid.find_all('div', class_ = \"tile css-1bonzt1 e1yt6rrx0\")"
   ]
  },
  {
   "cell_type": "code",
   "execution_count": 17,
   "metadata": {},
   "outputs": [],
   "source": [
    "#Get urls for each tile\n",
    "search_urls = []\n",
    "\n",
    "for tile in search_result_tiles:\n",
    "    link = tile.find('a')\n",
    "    item_link_href = link['href']\n",
    "    item_link = 'https://stockx.com/'+ item_link_href\n",
    "    \n",
    "    search_urls.append(item_link)"
   ]
  },
  {
   "cell_type": "markdown",
   "metadata": {},
   "source": [
    "## Get the details from the products"
   ]
  },
  {
   "cell_type": "markdown",
   "metadata": {},
   "source": [
    "If you already have a list of urls you want to get information for, just create a list and use it in the function below"
   ]
  },
  {
   "cell_type": "code",
   "execution_count": 18,
   "metadata": {},
   "outputs": [
    {
     "name": "stdout",
     "output_type": "stream",
     "text": [
      "40 products\n",
      "https://stockx.com//adidas-yeezy-boost-350-v2-asriel\n",
      "https://stockx.com//adidas-yeezy-boost-350-v2-zyon\n",
      "https://stockx.com//adidas-yeezy-boost-350-v2-cinder\n",
      "https://stockx.com//adidas-yeezy-boost-350-v2-desert-sage\n",
      "https://stockx.com//adidas-yeezy-boost-350-v2-white-core-black-red\n",
      "https://stockx.com//adidas-yeezy-boost-350-v2-yecheil\n",
      "https://stockx.com//adidas-yeezy-boost-350-v2-earth\n",
      "https://stockx.com//adidas-yeezy-boost-350-v2-yeezreel\n",
      "https://stockx.com//adidas-yeezy-boost-350-v2-tail-light\n",
      "https://stockx.com//adidas-yeezy-boost-350-v2-cream-white\n",
      "https://stockx.com//adidas-yeezy-boost-350-v2-citrin\n",
      "https://stockx.com//adidas-yeezy-boost-350-v2-cloud-white\n",
      "https://stockx.com//adidas-yeezy-boost-350-v2-linen\n",
      "https://stockx.com//adidas-yeezy-boost-350-v2-sesame\n",
      "https://stockx.com//adidas-yeezy-boost-350-v2-semi-frozen-yellow\n",
      "https://stockx.com//adidas-yeezy-boost-350-v2-sulfur\n",
      "https://stockx.com//adidas-yeezy-boost-350-v2-clay\n",
      "https://stockx.com//adidas-yeezy-boost-350-v2-yeshaya\n",
      "https://stockx.com//adidas-yeezy-boost-350-v2-static\n",
      "https://stockx.com//adidas-yeezy-boost-350-v2-blue-tint\n",
      "https://stockx.com//adidas-yeezy-boost-350-v2-lundmark\n",
      "https://stockx.com//adidas-yeezy-boost-350-v2-static-black-reflective\n",
      "https://stockx.com//adidas-yeezy-boost-350-v2-butter\n",
      "https://stockx.com//adidas-yeezy-boost-350-v2-beluga-2-0\n",
      "https://stockx.com//adidas-yeezy-boost-350-v2-steeple-grey-beluga-solar-red\n",
      "https://stockx.com//adidas-yeezy-boost-350-v2-antlia\n",
      "https://stockx.com//adidas-yeezy-boost-350-v2-glow\n",
      "https://stockx.com//adidas-yeezy-boost-350-v2-static-reflective\n",
      "https://stockx.com//adidas-yeezy-boost-350-v2-synth\n",
      "https://stockx.com//adidas-yeezy-boost-350-v2-core-black-red-2017\n",
      "https://stockx.com//adidas-yeezy-boost-350-v2-true-form\n",
      "https://stockx.com//adidas-yeezy-boost-350-v2-flax\n",
      "https://stockx.com//adidas-yeezy-boost-350-v2-core-black-red\n",
      "https://stockx.com//adidas-yeezy-boost-350-turtledove\n",
      "https://stockx.com//adidas-yeezy-boost-350-v2-hyperspace\n",
      "https://stockx.com//adidas-yeezy-boost-350-moonrock\n",
      "https://stockx.com//adidas-yeezy-boost-350-v2-natural\n",
      "https://stockx.com//adidas-yeezy-boost-350-v2-israfil\n",
      "https://stockx.com//adidas-yeezy-boost-350-v2-black\n",
      "https://stockx.com//adidas-yeezy-boost-350-v2-marsh\n"
     ]
    }
   ],
   "source": [
    "prod_info_list, sales_info_list, not_found = get_product_details(driver, search_urls)"
   ]
  },
  {
   "cell_type": "code",
   "execution_count": 19,
   "metadata": {},
   "outputs": [],
   "source": [
    "#Create dataframes\n",
    "prods_df =  pd.DataFrame.from_records(prod_info_list)\n",
    "sales_df =  pd.DataFrame.from_records(sales_info_list)"
   ]
  },
  {
   "cell_type": "code",
   "execution_count": 20,
   "metadata": {},
   "outputs": [
    {
     "data": {
      "text/html": [
       "<div>\n",
       "<style scoped>\n",
       "    .dataframe tbody tr th:only-of-type {\n",
       "        vertical-align: middle;\n",
       "    }\n",
       "\n",
       "    .dataframe tbody tr th {\n",
       "        vertical-align: top;\n",
       "    }\n",
       "\n",
       "    .dataframe thead th {\n",
       "        text-align: right;\n",
       "    }\n",
       "</style>\n",
       "<table border=\"1\" class=\"dataframe\">\n",
       "  <thead>\n",
       "    <tr style=\"text-align: right;\">\n",
       "      <th></th>\n",
       "      <th>url</th>\n",
       "      <th>name</th>\n",
       "      <th>Style</th>\n",
       "      <th>Colorway</th>\n",
       "      <th>Retail Price</th>\n",
       "      <th>Release Date</th>\n",
       "    </tr>\n",
       "  </thead>\n",
       "  <tbody>\n",
       "    <tr>\n",
       "      <th>0</th>\n",
       "      <td>https://stockx.com//adidas-yeezy-boost-350-v2-...</td>\n",
       "      <td>adidas Yeezy Boost 350 V2 Carbon</td>\n",
       "      <td>FZ5000</td>\n",
       "      <td>Carbon/Carbon/Carbon</td>\n",
       "      <td>$220</td>\n",
       "      <td>10/02/2020</td>\n",
       "    </tr>\n",
       "    <tr>\n",
       "      <th>1</th>\n",
       "      <td>https://stockx.com//adidas-yeezy-boost-350-v2-...</td>\n",
       "      <td>adidas Yeezy Boost 350 V2 Zyon</td>\n",
       "      <td>FZ1267</td>\n",
       "      <td>Zyon/Zyon/Zyon</td>\n",
       "      <td>$220</td>\n",
       "      <td>07/18/2020</td>\n",
       "    </tr>\n",
       "    <tr>\n",
       "      <th>2</th>\n",
       "      <td>https://stockx.com//adidas-yeezy-boost-350-v2-...</td>\n",
       "      <td>adidas Yeezy Boost 350 V2 Cinder</td>\n",
       "      <td>FY2903</td>\n",
       "      <td>Cinder/Cinder/Cinder</td>\n",
       "      <td>$220</td>\n",
       "      <td>03/21/2020</td>\n",
       "    </tr>\n",
       "    <tr>\n",
       "      <th>3</th>\n",
       "      <td>https://stockx.com//adidas-yeezy-boost-350-v2-...</td>\n",
       "      <td>adidas Yeezy Boost 350 V2 Desert Sage</td>\n",
       "      <td>FX9035</td>\n",
       "      <td>Desert Sage/Desert Sage/Desert Sage</td>\n",
       "      <td>$220</td>\n",
       "      <td>03/14/2020</td>\n",
       "    </tr>\n",
       "    <tr>\n",
       "      <th>4</th>\n",
       "      <td>https://stockx.com//adidas-yeezy-boost-350-v2-...</td>\n",
       "      <td>adidas Yeezy Boost 350 V2 Zebra</td>\n",
       "      <td>CP9654</td>\n",
       "      <td>NaN</td>\n",
       "      <td>$220</td>\n",
       "      <td>02/25/2017</td>\n",
       "    </tr>\n",
       "  </tbody>\n",
       "</table>\n",
       "</div>"
      ],
      "text/plain": [
       "                                                 url  \\\n",
       "0  https://stockx.com//adidas-yeezy-boost-350-v2-...   \n",
       "1  https://stockx.com//adidas-yeezy-boost-350-v2-...   \n",
       "2  https://stockx.com//adidas-yeezy-boost-350-v2-...   \n",
       "3  https://stockx.com//adidas-yeezy-boost-350-v2-...   \n",
       "4  https://stockx.com//adidas-yeezy-boost-350-v2-...   \n",
       "\n",
       "                                    name     Style  \\\n",
       "0       adidas Yeezy Boost 350 V2 Carbon   FZ5000    \n",
       "1         adidas Yeezy Boost 350 V2 Zyon   FZ1267    \n",
       "2       adidas Yeezy Boost 350 V2 Cinder   FY2903    \n",
       "3  adidas Yeezy Boost 350 V2 Desert Sage   FX9035    \n",
       "4        adidas Yeezy Boost 350 V2 Zebra   CP9654    \n",
       "\n",
       "                                Colorway Retail Price  Release Date  \n",
       "0                  Carbon/Carbon/Carbon         $220    10/02/2020   \n",
       "1                        Zyon/Zyon/Zyon         $220    07/18/2020   \n",
       "2                  Cinder/Cinder/Cinder         $220    03/21/2020   \n",
       "3   Desert Sage/Desert Sage/Desert Sage         $220    03/14/2020   \n",
       "4                                    NaN        $220    02/25/2017   "
      ]
     },
     "execution_count": 20,
     "metadata": {},
     "output_type": "execute_result"
    }
   ],
   "source": [
    "prods_df.head()"
   ]
  },
  {
   "cell_type": "code",
   "execution_count": 21,
   "metadata": {},
   "outputs": [
    {
     "data": {
      "text/html": [
       "<div>\n",
       "<style scoped>\n",
       "    .dataframe tbody tr th:only-of-type {\n",
       "        vertical-align: middle;\n",
       "    }\n",
       "\n",
       "    .dataframe tbody tr th {\n",
       "        vertical-align: top;\n",
       "    }\n",
       "\n",
       "    .dataframe thead th {\n",
       "        text-align: right;\n",
       "    }\n",
       "</style>\n",
       "<table border=\"1\" class=\"dataframe\">\n",
       "  <thead>\n",
       "    <tr style=\"text-align: right;\">\n",
       "      <th></th>\n",
       "      <th>url</th>\n",
       "      <th>Size</th>\n",
       "      <th>Sale Price</th>\n",
       "      <th>Date</th>\n",
       "      <th>Time</th>\n",
       "    </tr>\n",
       "  </thead>\n",
       "  <tbody>\n",
       "    <tr>\n",
       "      <th>0</th>\n",
       "      <td>https://stockx.com//adidas-yeezy-boost-350-v2-...</td>\n",
       "      <td>6</td>\n",
       "      <td>$293</td>\n",
       "      <td>Monday, October 26, 2020</td>\n",
       "      <td>3:29 PM EST</td>\n",
       "    </tr>\n",
       "    <tr>\n",
       "      <th>1</th>\n",
       "      <td>https://stockx.com//adidas-yeezy-boost-350-v2-...</td>\n",
       "      <td>12</td>\n",
       "      <td>$251</td>\n",
       "      <td>Monday, October 26, 2020</td>\n",
       "      <td>3:29 PM EST</td>\n",
       "    </tr>\n",
       "    <tr>\n",
       "      <th>2</th>\n",
       "      <td>https://stockx.com//adidas-yeezy-boost-350-v2-...</td>\n",
       "      <td>8.5</td>\n",
       "      <td>$286</td>\n",
       "      <td>Monday, October 26, 2020</td>\n",
       "      <td>3:29 PM EST</td>\n",
       "    </tr>\n",
       "    <tr>\n",
       "      <th>3</th>\n",
       "      <td>https://stockx.com//adidas-yeezy-boost-350-v2-...</td>\n",
       "      <td>8</td>\n",
       "      <td>$262</td>\n",
       "      <td>Monday, October 26, 2020</td>\n",
       "      <td>3:21 PM EST</td>\n",
       "    </tr>\n",
       "    <tr>\n",
       "      <th>4</th>\n",
       "      <td>https://stockx.com//adidas-yeezy-boost-350-v2-...</td>\n",
       "      <td>6.5</td>\n",
       "      <td>$292</td>\n",
       "      <td>Monday, October 26, 2020</td>\n",
       "      <td>3:21 PM EST</td>\n",
       "    </tr>\n",
       "  </tbody>\n",
       "</table>\n",
       "</div>"
      ],
      "text/plain": [
       "                                                 url Size Sale Price  \\\n",
       "0  https://stockx.com//adidas-yeezy-boost-350-v2-...    6       $293   \n",
       "1  https://stockx.com//adidas-yeezy-boost-350-v2-...   12       $251   \n",
       "2  https://stockx.com//adidas-yeezy-boost-350-v2-...  8.5       $286   \n",
       "3  https://stockx.com//adidas-yeezy-boost-350-v2-...    8       $262   \n",
       "4  https://stockx.com//adidas-yeezy-boost-350-v2-...  6.5       $292   \n",
       "\n",
       "                       Date         Time  \n",
       "0  Monday, October 26, 2020  3:29 PM EST  \n",
       "1  Monday, October 26, 2020  3:29 PM EST  \n",
       "2  Monday, October 26, 2020  3:29 PM EST  \n",
       "3  Monday, October 26, 2020  3:21 PM EST  \n",
       "4  Monday, October 26, 2020  3:21 PM EST  "
      ]
     },
     "execution_count": 21,
     "metadata": {},
     "output_type": "execute_result"
    }
   ],
   "source": [
    "sales_df.head()"
   ]
  },
  {
   "cell_type": "code",
   "execution_count": 22,
   "metadata": {},
   "outputs": [],
   "source": [
    "prods_df.to_excel(\"prods.xlsx\")\n",
    "sales_df.to_excel(os.getcwd() + '/sales.xlsx')"
   ]
  },
  {
   "cell_type": "code",
   "execution_count": 23,
   "metadata": {},
   "outputs": [
    {
     "data": {
      "text/plain": [
       "'/Users/fernandocueva/Desktop/sneakerTimeSeries/stockx_scraper-master'"
      ]
     },
     "execution_count": 23,
     "metadata": {},
     "output_type": "execute_result"
    }
   ],
   "source": [
    "os.getcwd()"
   ]
  },
  {
   "cell_type": "code",
   "execution_count": 24,
   "metadata": {},
   "outputs": [],
   "source": [
    "fernando = prods_df"
   ]
  },
  {
   "cell_type": "code",
   "execution_count": 25,
   "metadata": {},
   "outputs": [],
   "source": [
    "fernando.to_csv('fernando.csv', index=False)"
   ]
  }
 ],
 "metadata": {
  "kernelspec": {
   "display_name": "Python 3",
   "language": "python",
   "name": "python3"
  },
  "language_info": {
   "codemirror_mode": {
    "name": "ipython",
    "version": 3
   },
   "file_extension": ".py",
   "mimetype": "text/x-python",
   "name": "python",
   "nbconvert_exporter": "python",
   "pygments_lexer": "ipython3",
   "version": "3.8.3"
  }
 },
 "nbformat": 4,
 "nbformat_minor": 4
}
